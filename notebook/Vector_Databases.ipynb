{
 "cells": [
  {
   "cell_type": "markdown",
   "id": "0fad9a5d",
   "metadata": {},
   "source": [
    "### What are Vector Databases?\n",
    "Vector databases are specialized databases designed to store, index, and query high-dimensional vectors (embeddings) generated from unstructured data like text, images, or audio. Unlike traditional relational databases (e.g., SQL) that handle structured data with exact matches or NoSQL databases (e.g., MongoDB) for JSON-like documents, vector databases focus on semantic similarity search. They use Approximate Nearest Neighbor (ANN) algorithms to find vectors closest to a query vector in high-dimensional space, enabling applications like semantic search, recommendation systems, and RAG.\n",
    "\n",
    "### Key Components:\n",
    "- Storage: Vectors (dense arrays, e.g., 384 dimensions from SBERT) plus metadata (e.g., ticket ID, category).\n",
    "- Indexing: Structures to speed up searches (e.g., graphs, clusters) without scanning all vectors.\n",
    "- Querying: Similarity metrics like cosine similarity, Euclidean distance, or dot product to rank results.\n",
    "- Scalability: Handle billions of vectors with horizontal scaling, filtering, and hybrid search (vector + keyword).\n",
    "\n",
    "\n"
   ]
  },
  {
   "cell_type": "markdown",
   "id": "456f3922",
   "metadata": {},
   "source": [
    "### Vector Similarity Search Algorithms\n",
    "Vector similarity search finds the k-nearest neighbors (k-NN) to a query vector using metrics:\n",
    "- Cosine Similarity: Measures angle between vectors (ignores magnitude; good for text).\n",
    "- Euclidean Distance: L2 norm (magnitude-sensitive; for images).\n",
    "- Dot Product: Inner product (for normalized vectors).\n",
    "\n"
   ]
  },
  {
   "cell_type": "markdown",
   "id": "75a77ceb",
   "metadata": {},
   "source": [
    "### HNSW (Hierarchical Navigable Small World)"
   ]
  },
  {
   "cell_type": "code",
   "execution_count": null,
   "id": "18664e29",
   "metadata": {},
   "outputs": [
    {
     "name": "stderr",
     "output_type": "stream",
     "text": [
      "C:\\Users\\Hp\\AppData\\Local\\Programs\\Python\\Python311\\Lib\\site-packages\\huggingface_hub\\file_download.py:797: FutureWarning: `resume_download` is deprecated and will be removed in version 1.0.0. Downloads always resume when possible. If you want to force a new download, use `force_download=True`.\n",
      "  warnings.warn(\n",
      "C:\\Users\\Hp\\AppData\\Local\\Programs\\Python\\Python311\\Lib\\site-packages\\huggingface_hub\\file_download.py:797: FutureWarning: `resume_download` is deprecated and will be removed in version 1.0.0. Downloads always resume when possible. If you want to force a new download, use `force_download=True`.\n",
      "  warnings.warn(\n"
     ]
    }
   ],
   "source": [
    "import hnswlib\n",
    "import numpy as np\n",
    "from sentence_transformers import SentenceTransformer\n",
    "\n",
    "# Sample embeddings (from earlier module)\n",
    "model = SentenceTransformer('all-MiniLM-L6-v2')\n",
    "tickets = [\n",
    "    \"hello i have an issue with product123 the screen is broken please help\",\n",
    "    \"i tried restarting the device but it did not work\",\n",
    "    \"product xyz-456 not working do not know why\"\n",
    "]\n",
    "embeddings = model.encode(tickets).astype(np.float32)\n",
    "\n",
    "# Build HNSW index\n",
    "dim = embeddings.shape[1]  # 384\n",
    "index = hnswlib.Index(space='cosine', dim=dim)  # Cosine metric\n",
    "index.init_index(max_elements=len(embeddings), ef_construction=100, M=16)  # M: max connections\n",
    "index.add_items(embeddings)\n",
    "\n",
    "# Query\n",
    "query = model.encode([\"broken screen issue\"]).astype(np.float32)\n",
    "labels, distances = index.knn_query(query, k=2)\n",
    "print(\"Top similar tickets indices:\", labels[0])\n",
    "print(\"Distances (lower = more similar):\", distances[0])"
   ]
  },
  {
   "cell_type": "code",
   "execution_count": null,
   "id": "6d52a8f5",
   "metadata": {},
   "outputs": [],
   "source": []
  }
 ],
 "metadata": {
  "kernelspec": {
   "display_name": "Python 3 (ipykernel)",
   "language": "python",
   "name": "python3"
  },
  "language_info": {
   "codemirror_mode": {
    "name": "ipython",
    "version": 3
   },
   "file_extension": ".py",
   "mimetype": "text/x-python",
   "name": "python",
   "nbconvert_exporter": "python",
   "pygments_lexer": "ipython3",
   "version": "3.11.2"
  }
 },
 "nbformat": 4,
 "nbformat_minor": 5
}
